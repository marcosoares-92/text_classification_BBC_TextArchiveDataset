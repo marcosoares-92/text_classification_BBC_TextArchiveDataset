{
  "cells": [
    {
      "cell_type": "markdown",
      "id": "5639149e",
      "metadata": {
        "id": "5639149e"
      },
      "source": [
        "# Week 2: Diving deeper into the BBC News archive\n",
        "\n",
        "Welcome! In this assignment you will be revisiting the [BBC News Classification Dataset](https://www.kaggle.com/c/learn-ai-bbc/overview), which contains 2225 examples of news articles with their respective labels. \n",
        "\n",
        "This time you will not only work with the tokenization process but you will also create a classifier using specialized layers for text data such as Embedding and GlobalAveragePooling1D.\n",
        "\n",
        "Let's get started!"
      ]
    },
    {
      "cell_type": "code",
      "execution_count": 10,
      "id": "b5260708",
      "metadata": {
        "id": "b5260708"
      },
      "outputs": [],
      "source": [
        "import io\n",
        "import csv\n",
        "import tensorflow as tf\n",
        "import numpy as np\n",
        "from tensorflow.keras.preprocessing.text import Tokenizer\n",
        "from tensorflow.keras.preprocessing.sequence import pad_sequences\n",
        "import matplotlib.pyplot as plt"
      ]
    },
    {
      "cell_type": "markdown",
      "id": "3d862bec",
      "metadata": {
        "id": "3d862bec"
      },
      "source": [
        "You probably remember structure of the csv that contains the data from last week, but in case you need a reminder run the next cell:"
      ]
    },
    {
      "cell_type": "code",
      "execution_count": 11,
      "id": "e0626490",
      "metadata": {
        "colab": {
          "base_uri": "https://localhost:8080/"
        },
        "id": "e0626490",
        "outputId": "85961163-d1b0-4d91-85fb-5f852139a033"
      },
      "outputs": [
        {
          "output_type": "stream",
          "name": "stdout",
          "text": [
            "First line (header) looks like this:\n",
            "\n",
            "category,text\n",
            "\n",
            "Each data point looks like this:\n",
            "\n",
            "tech,tv future in the hands of viewers with home theatre systems  plasma high-definition tvs  and digital video recorders moving into the living room  the way people watch tv will be radically different in five years  time.  that is according to an expert panel which gathered at the annual consumer electronics show in las vegas to discuss how these new technologies will impact one of our favourite pastimes. with the us leading the trend  programmes and other content will be delivered to viewers via home networks  through cable  satellite  telecoms companies  and broadband service providers to front rooms and portable devices.  one of the most talked-about technologies of ces has been digital and personal video recorders (dvr and pvr). these set-top boxes  like the us s tivo and the uk s sky+ system  allow people to record  store  play  pause and forward wind tv programmes when they want.  essentially  the technology allows for much more personalised tv. they are also being built-in to high-definition tv sets  which are big business in japan and the us  but slower to take off in europe because of the lack of high-definition programming. not only can people forward wind through adverts  they can also forget about abiding by network and channel schedules  putting together their own a-la-carte entertainment. but some us networks and cable and satellite companies are worried about what it means for them in terms of advertising revenues as well as  brand identity  and viewer loyalty to channels. although the us leads in this technology at the moment  it is also a concern that is being raised in europe  particularly with the growing uptake of services like sky+.  what happens here today  we will see in nine months to a years  time in the uk   adam hume  the bbc broadcast s futurologist told the bbc news website. for the likes of the bbc  there are no issues of lost advertising revenue yet. it is a more pressing issue at the moment for commercial uk broadcasters  but brand loyalty is important for everyone.  we will be talking more about content brands rather than network brands   said tim hanlon  from brand communications firm starcom mediavest.  the reality is that with broadband connections  anybody can be the producer of content.  he added:  the challenge now is that it is hard to promote a programme with so much choice.   what this means  said stacey jolna  senior vice president of tv guide tv group  is that the way people find the content they want to watch has to be simplified for tv viewers. it means that networks  in us terms  or channels could take a leaf out of google s book and be the search engine of the future  instead of the scheduler to help people find what they want to watch. this kind of channel model might work for the younger ipod generation which is used to taking control of their gadgets and what they play on them. but it might not suit everyone  the panel recognised. older generations are more comfortable with familiar schedules and channel brands because they know what they are getting. they perhaps do not want so much of the choice put into their hands  mr hanlon suggested.  on the other end  you have the kids just out of diapers who are pushing buttons already - everything is possible and available to them   said mr hanlon.  ultimately  the consumer will tell the market they want.   of the 50 000 new gadgets and technologies being showcased at ces  many of them are about enhancing the tv-watching experience. high-definition tv sets are everywhere and many new models of lcd (liquid crystal display) tvs have been launched with dvr capability built into them  instead of being external boxes. one such example launched at the show is humax s 26-inch lcd tv with an 80-hour tivo dvr and dvd recorder. one of the us s biggest satellite tv companies  directtv  has even launched its own branded dvr at the show with 100-hours of recording capability  instant replay  and a search function. the set can pause and rewind tv for up to 90 hours. and microsoft chief bill gates announced in his pre-show keynote speech a partnership with tivo  called tivotogo  which means people can play recorded programmes on windows pcs and mobile devices. all these reflect the increasing trend of freeing up multimedia so that people can watch what they want  when they want.\n",
            "\n"
          ]
        }
      ],
      "source": [
        "with open(\"./bbc-text.csv\", 'r') as csvfile:\n",
        "    print(f\"First line (header) looks like this:\\n\\n{csvfile.readline()}\")\n",
        "    print(f\"Each data point looks like this:\\n\\n{csvfile.readline()}\")"
      ]
    },
    {
      "cell_type": "markdown",
      "id": "7ee4f7f3",
      "metadata": {
        "id": "7ee4f7f3"
      },
      "source": [
        "As you can see, each data point is composed of the category of the news article followed by a comma and then the actual text of the article."
      ]
    },
    {
      "cell_type": "markdown",
      "id": "485c838f",
      "metadata": {
        "id": "485c838f"
      },
      "source": [
        "## Defining useful global variables\n",
        "\n",
        "Next you will define some global variables that will be used throughout the assignment. \n",
        "\n",
        "- `NUM_WORDS`: The maximum number of words to keep, based on word frequency. Defaults to 1000.\n",
        "\n",
        "\n",
        "- `EMBEDDING_DIM`: Dimension of the dense embedding, will be used in the embedding layer of the model. Defaults to 16.\n",
        "\n",
        "\n",
        "- `MAXLEN`: Maximum length of all sequences. Defaults to 120.\n",
        "\n",
        "\n",
        "- `PADDING`: Padding strategy (pad either before or after each sequence.). Defaults to 'post'.\n",
        "\n",
        "\n",
        "- `OOV_TOKEN`: Token to replace out-of-vocabulary words during text_to_sequence calls. Defaults to \"\\<OOV>\".\n",
        "\n",
        "    \n",
        "- `TRAINING_SPLIT`: Proportion of data used for training. Defaults to 0.8\n",
        "\n",
        "**For now leave them unchanged but after submitting your assignment for grading you are encouraged to come back here and play with these parameters to see the impact they have in the classification process**"
      ]
    },
    {
      "cell_type": "code",
      "execution_count": 12,
      "id": "44266724",
      "metadata": {
        "id": "44266724"
      },
      "outputs": [],
      "source": [
        "NUM_WORDS = 1000\n",
        "EMBEDDING_DIM = 16\n",
        "MAXLEN = 120\n",
        "PADDING = 'post'\n",
        "OOV_TOKEN = \"<OOV>\"\n",
        "TRAINING_SPLIT = .8"
      ]
    },
    {
      "cell_type": "markdown",
      "id": "f25e9364",
      "metadata": {
        "id": "f25e9364"
      },
      "source": [
        "## Loading and pre-processing the data\n",
        "\n",
        "Now you should code the functions to remove stopwords from text and to load the data from a csv file.\n",
        "\n",
        "Since you already coded these functions for the previous week, these are provided for you."
      ]
    },
    {
      "cell_type": "code",
      "execution_count": 13,
      "id": "8039b079",
      "metadata": {
        "id": "8039b079"
      },
      "outputs": [],
      "source": [
        "def remove_stopwords(sentence):\n",
        "    # List of stopwords\n",
        "    stopwords = [\"a\", \"about\", \"above\", \"after\", \"again\", \"against\", \"all\", \"am\", \"an\", \"and\", \"any\", \"are\", \"as\", \"at\", \"be\", \"because\", \"been\", \"before\", \"being\", \"below\", \"between\", \"both\", \"but\", \"by\", \"could\", \"did\", \"do\", \"does\", \"doing\", \"down\", \"during\", \"each\", \"few\", \"for\", \"from\", \"further\", \"had\", \"has\", \"have\", \"having\", \"he\", \"he'd\", \"he'll\", \"he's\", \"her\", \"here\", \"here's\", \"hers\", \"herself\", \"him\", \"himself\", \"his\", \"how\", \"how's\", \"i\", \"i'd\", \"i'll\", \"i'm\", \"i've\", \"if\", \"in\", \"into\", \"is\", \"it\", \"it's\", \"its\", \"itself\", \"let's\", \"me\", \"more\", \"most\", \"my\", \"myself\", \"nor\", \"of\", \"on\", \"once\", \"only\", \"or\", \"other\", \"ought\", \"our\", \"ours\", \"ourselves\", \"out\", \"over\", \"own\", \"same\", \"she\", \"she'd\", \"she'll\", \"she's\", \"should\", \"so\", \"some\", \"such\", \"than\", \"that\", \"that's\", \"the\", \"their\", \"theirs\", \"them\", \"themselves\", \"then\", \"there\", \"there's\", \"these\", \"they\", \"they'd\", \"they'll\", \"they're\", \"they've\", \"this\", \"those\", \"through\", \"to\", \"too\", \"under\", \"until\", \"up\", \"very\", \"was\", \"we\", \"we'd\", \"we'll\", \"we're\", \"we've\", \"were\", \"what\", \"what's\", \"when\", \"when's\", \"where\", \"where's\", \"which\", \"while\", \"who\", \"who's\", \"whom\", \"why\", \"why's\", \"with\", \"would\", \"you\", \"you'd\", \"you'll\", \"you're\", \"you've\", \"your\", \"yours\", \"yourself\", \"yourselves\" ]\n",
        "    \n",
        "    # Sentence converted to lowercase-only\n",
        "    sentence = sentence.lower()\n",
        "\n",
        "    words = sentence.split()\n",
        "    no_words = [w for w in words if w not in stopwords]\n",
        "    sentence = \" \".join(no_words)\n",
        "\n",
        "    return sentence\n",
        "\n",
        "\n",
        "def parse_data_from_file(filename):\n",
        "    sentences = []\n",
        "    labels = []\n",
        "    with open(filename, 'r') as csvfile:\n",
        "        reader = csv.reader(csvfile, delimiter=',')\n",
        "        next(reader)\n",
        "        for row in reader:\n",
        "            labels.append(row[0])\n",
        "            sentence = row[1]\n",
        "            sentence = remove_stopwords(sentence)\n",
        "            sentences.append(sentence)\n",
        "\n",
        "    return sentences, labels"
      ]
    },
    {
      "cell_type": "code",
      "execution_count": 14,
      "id": "5565105f",
      "metadata": {
        "colab": {
          "base_uri": "https://localhost:8080/"
        },
        "id": "5565105f",
        "outputId": "d8c67167-9b3f-4bc8-bd09-8fda45dcb258"
      },
      "outputs": [
        {
          "output_type": "stream",
          "name": "stdout",
          "text": [
            "There are 2225 sentences in the dataset.\n",
            "\n",
            "First sentence has 436 words (after removing stopwords).\n",
            "\n",
            "There are 2225 labels in the dataset.\n",
            "\n",
            "The first 5 labels are ['tech', 'business', 'sport', 'sport', 'entertainment']\n"
          ]
        }
      ],
      "source": [
        "# Test the functions\n",
        "sentences, labels = parse_data_from_file(\"./bbc-text.csv\")\n",
        "\n",
        "print(f\"There are {len(sentences)} sentences in the dataset.\\n\")\n",
        "print(f\"First sentence has {len(sentences[0].split())} words (after removing stopwords).\\n\")\n",
        "print(f\"There are {len(labels)} labels in the dataset.\\n\")\n",
        "print(f\"The first 5 labels are {labels[:5]}\")"
      ]
    },
    {
      "cell_type": "markdown",
      "id": "2d670a6d",
      "metadata": {
        "id": "2d670a6d"
      },
      "source": [
        "***Expected Output:***\n",
        "\n",
        "```\n",
        "There are 2225 sentences in the dataset.\n",
        "\n",
        "First sentence has 436 words (after removing stopwords).\n",
        "\n",
        "There are 2225 labels in the dataset.\n",
        "\n",
        "The first 5 labels are ['tech', 'business', 'sport', 'sport', 'entertainment']\n",
        "```"
      ]
    },
    {
      "cell_type": "markdown",
      "id": "011b39db",
      "metadata": {
        "id": "011b39db"
      },
      "source": [
        "## Training - Validation Split\n",
        "\n",
        "Now you will code the `train_val_split`, which given the list of sentences, the list of labels and the proportion of data for the training set, should return the training and validation sentences and labels:"
      ]
    },
    {
      "cell_type": "code",
      "execution_count": 35,
      "id": "9ce4e6fc",
      "metadata": {
        "id": "9ce4e6fc"
      },
      "outputs": [],
      "source": [
        "# GRADED FUNCTIONS: train_val_split\n",
        "def train_val_split(sentences, labels, training_split):\n",
        "    \n",
        "    import numpy as np\n",
        "    import random\n",
        "\n",
        "    ### START CODE HERE\n",
        "    \n",
        "    # training_split = fraction of data destined to training. Example:\n",
        "    # training_split = 0.8 uses 0.8 = 80% of data for training; and 0.2 = 20%\n",
        "    # for testing the model\n",
        "\n",
        "    # sentences = list of sentences that will be analyzed\n",
        "    total_of_sentences = len(sentences)\n",
        "\n",
        "    # Compute the number of sentences that will be used for training (should be an integer)\n",
        "    train_size = int(np.rint(training_split * total_of_sentences))\n",
        "    \n",
        "    # We must use the int function to guarantee that the train_size will store an\n",
        "    # integer number of sentences (we cannot have a fraction of a sentence).\n",
        "    # The int function guarantees that the variable will be stored as an integer.\n",
        "    # The numpy.rint(a) function rounds elements of the array to the nearest integer.\n",
        "    # https://numpy.org/doc/stable/reference/generated/numpy.rint.html\n",
        "    # For values exactly halfway between rounded decimal values, \n",
        "    # NumPy rounds to the nearest even value. \n",
        "    # Thus 1.5 and 2.5 round to 2.0; -0.5 and 0.5 round to 0.0; etc.\n",
        "\n",
        "    #Get total of sentences used for testing:\n",
        "    test_size = total_of_sentences - train_size\n",
        "\n",
        "    # Let's create a list of indices, which goes from zero to the index of the\n",
        "    # last sentence, total_of_sentences - 1:\n",
        "    list_of_indices = []\n",
        "    for i in range(total_of_sentences):\n",
        "      # Loops from i = 0 to i = total_of_sentences - 1\n",
        "      # append i to the list:\n",
        "      list_of_indices.append(i)\n",
        "\n",
        "    # Function random.sample(input_list, number_of_samples): this function creates a list containing\n",
        "    # a total of elements equals to the parameter \"number_of_samples\", which must be an integer.\n",
        "    # This list is obtained by ramdomly selecting a total of \"number_of_samples\" elements from the\n",
        "    # list \"input_list\" passed as parameter.\n",
        "\n",
        "    # Now we can create a list of random indices correspondent to the sentences (and their labels)\n",
        "    # selected for training.\n",
        "    # For that, random sample a total of 'train_size' elements from list_of_indices\n",
        "    training_indices = random.sample(list_of_indices, train_size)\n",
        "\n",
        "    # Split the sentences and labels into train/validation splits.\n",
        "    # Firstly, start the new lists for training and validation:\n",
        "    train_sentences = []\n",
        "    train_labels = []\n",
        "\n",
        "    validation_sentences = []\n",
        "    validation_labels = []\n",
        "\n",
        "    # Loop through list_of_indices.\n",
        "    # If the index is in the list training_indices of the indexes selected for\n",
        "    # training, append the sentence to train_sentences; and the correspondent\n",
        "    # label to train_labels. If not, append them to validation_sentences and\n",
        "    # validation_labels.\n",
        "    # Notice that we created the indices as unique integers starting from zero,\n",
        "    # so there is no equal index.\n",
        "\n",
        "    for i in list_of_indices:\n",
        "      # Loops through each element i in the list of indices.\n",
        "\n",
        "      # Check if i is in the list training_indices\n",
        "      if (i in training_indices):\n",
        "        # append the sentence and its label to the training list:\n",
        "        train_sentences.append(sentences[i])\n",
        "        train_labels.append(labels[i])\n",
        "      \n",
        "      else:\n",
        "        # i is not an index selected for training.\n",
        "        # append the elements to the validation lists:\n",
        "        validation_sentences.append(sentences[i])\n",
        "        validation_labels.append(labels[i])\n",
        "\n",
        "    ### END CODE HERE\n",
        "    \n",
        "    return train_sentences, validation_sentences, train_labels, validation_labels"
      ]
    },
    {
      "cell_type": "code",
      "execution_count": 43,
      "id": "04c9c0f9",
      "metadata": {
        "colab": {
          "base_uri": "https://localhost:8080/"
        },
        "id": "04c9c0f9",
        "outputId": "0dd534e8-77f6-4546-8029-2ed984da7049"
      },
      "outputs": [
        {
          "output_type": "stream",
          "name": "stdout",
          "text": [
            "There are 1780 sentences for training.\n",
            "\n",
            "There are 1780 labels for training.\n",
            "\n",
            "There are 445 sentences for validation.\n",
            "\n",
            "There are 445 labels for validation.\n"
          ]
        }
      ],
      "source": [
        "# Test your function\n",
        "train_sentences, val_sentences, train_labels, val_labels = train_val_split(sentences, labels, TRAINING_SPLIT)\n",
        "\n",
        "print(f\"There are {len(train_sentences)} sentences for training.\\n\")\n",
        "print(f\"There are {len(train_labels)} labels for training.\\n\")\n",
        "print(f\"There are {len(val_sentences)} sentences for validation.\\n\")\n",
        "print(f\"There are {len(val_labels)} labels for validation.\")"
      ]
    },
    {
      "cell_type": "markdown",
      "id": "299615ef",
      "metadata": {
        "id": "299615ef"
      },
      "source": [
        "***Expected Output:***\n",
        "\n",
        "```\n",
        "There are 1780 sentences for training.\n",
        "\n",
        "There are 1780 labels for training.\n",
        "\n",
        "There are 445 sentences for validation.\n",
        "\n",
        "There are 445 labels for validation.\n",
        "```"
      ]
    },
    {
      "cell_type": "markdown",
      "id": "3ac98dde",
      "metadata": {
        "id": "3ac98dde"
      },
      "source": [
        "## Tokenization - Sequences and padding\n",
        "\n",
        "Now that you have sets for training and validation it is time for you to begin the tokenization process.\n",
        "\n",
        "Begin by completing the `fit_tokenizer` function below. This function should return a [Tokenizer](https://www.tensorflow.org/api_docs/python/tf/keras/preprocessing/text/Tokenizer) that has been fitted to the training sentences."
      ]
    },
    {
      "cell_type": "code",
      "execution_count": 37,
      "id": "2e202298",
      "metadata": {
        "lines_to_next_cell": 2,
        "id": "2e202298"
      },
      "outputs": [],
      "source": [
        "# GRADED FUNCTION: fit_tokenizer\n",
        "def fit_tokenizer(train_sentences, num_words, oov_token):\n",
        "    \n",
        "    from tensorflow.keras.preprocessing.text import Tokenizer\n",
        "    ### START CODE HERE\n",
        "    \n",
        "    # Instantiate the Tokenizer class, passing in the correct values for num_words and oov_token\n",
        "    tokenizer = Tokenizer(num_words = num_words, oov_token = oov_token)\n",
        "    # oov: out of vocabulary - it should be a special token different from any possible word\n",
        "    # to differentiate the words that are present, but were not seem when creating the word index.\n",
        "    # If there is no token for words out of the vocabulary, the words would be simply removed when\n",
        "    # encoding the sequence. Now, instead of removing those words, we encode them as the special\n",
        "    # token oov_token, such as '<OOV>'.\n",
        "    \n",
        "    # Fit the tokenizer to the training sentences\n",
        "    tokenizer.fit_on_texts(train_sentences)\n",
        "    \n",
        "    ### END CODE HERE\n",
        "    \n",
        "    return tokenizer"
      ]
    },
    {
      "cell_type": "code",
      "execution_count": 44,
      "id": "82caa2fa",
      "metadata": {
        "colab": {
          "base_uri": "https://localhost:8080/"
        },
        "id": "82caa2fa",
        "outputId": "21639cfb-62c6-4949-cee7-3129181ddc98"
      },
      "outputs": [
        {
          "output_type": "stream",
          "name": "stdout",
          "text": [
            "Vocabulary contains 27234 words\n",
            "\n",
            "<OOV> token included in vocabulary\n"
          ]
        }
      ],
      "source": [
        "# Test your function\n",
        "tokenizer = fit_tokenizer(train_sentences, NUM_WORDS, OOV_TOKEN)\n",
        "word_index = tokenizer.word_index\n",
        "\n",
        "print(f\"Vocabulary contains {len(word_index)} words\\n\")\n",
        "print(\"<OOV> token included in vocabulary\" if \"<OOV>\" in word_index else \"<OOV> token NOT included in vocabulary\")"
      ]
    },
    {
      "cell_type": "markdown",
      "id": "5fa2c67b",
      "metadata": {
        "id": "5fa2c67b"
      },
      "source": [
        "***Expected Output:***\n",
        "\n",
        "```\n",
        "Vocabulary contains 27285 words\n",
        "\n",
        "<OOV> token included in vocabulary\n",
        "```"
      ]
    },
    {
      "cell_type": "markdown",
      "id": "0450b0d6",
      "metadata": {
        "id": "0450b0d6"
      },
      "source": [
        "Now that the tokenizer has been fitted to the training data, you need a function that will convert each text data point into its padded sequence representation, for this complete the `seq_and_pad` function below:"
      ]
    },
    {
      "cell_type": "code",
      "execution_count": 45,
      "id": "9d19335a",
      "metadata": {
        "id": "9d19335a"
      },
      "outputs": [],
      "source": [
        "# GRADED FUNCTION: seq_and_pad\n",
        "def seq_and_pad(sentences, tokenizer, padding, maxlen):\n",
        "    \n",
        "    ### START CODE HERE\n",
        "       \n",
        "    # Convert sentences to sequences\n",
        "    sequences = tokenizer.texts_to_sequences(sentences)\n",
        "    \n",
        "    # Pad the sequences using the correct padding and maxlen\n",
        "    padded_sequences = pad_sequences(sequences, padding = padding, truncating = padding, maxlen = maxlen)\n",
        "    # Keras requires sequences of the same lenght: same number of variables (columns); images of\n",
        "    # constant dimensions; or text sequences with same length\n",
        "    # maxlen: set the maximum length allowed for the sequences. Longer sequences will be truncated\n",
        "    # after reaching the number of tokens specified as maxlen. If maxlen = 5, the sequences are\n",
        "    # allowed to have only 5 tokens (5 words, basically).\n",
        "\n",
        "    # The default for padding and truncating is in the beginning of the sentence: then, zeros are added to\n",
        "    # the beginning of the smaller sequences (their left, before the first words). The number of added zeros\n",
        "    # is the amount required for them to reach the maximum possible length. In turns, sequences longer than\n",
        "    # the maximum possible length are cropped (truncated) in their left, i.e., their first words are removed\n",
        "    # for them to reach the maximum allowed length.\n",
        "    # By specifying padding = 'post', we tell keras that the zeros should be added at the end (far-right) \n",
        "    # of the sequences, so only what comes after the sentence is 'modified' \n",
        "    # (filled with zeros to reach the maximum length).\n",
        "\n",
        "    # In its turn, when specifying truncating = 'post', we tell Keras to remove only the last (far-\n",
        "    # right) words, so the beginning of the sentences longer than max length are not removed (we lost\n",
        "    # the final part of the text, instead of losing its beginning).\n",
        "    \n",
        "    ### END CODE HERE\n",
        "    \n",
        "    return padded_sequences"
      ]
    },
    {
      "cell_type": "code",
      "execution_count": 46,
      "id": "5339bed7",
      "metadata": {
        "colab": {
          "base_uri": "https://localhost:8080/"
        },
        "id": "5339bed7",
        "outputId": "967ac04b-217a-4570-d118-3568de252384"
      },
      "outputs": [
        {
          "output_type": "stream",
          "name": "stdout",
          "text": [
            "Padded training sequences have shape: (1780, 120)\n",
            "\n",
            "Padded validation sequences have shape: (445, 120)\n"
          ]
        }
      ],
      "source": [
        "# Test your function\n",
        "train_padded_seq = seq_and_pad(train_sentences, tokenizer, PADDING, MAXLEN)\n",
        "val_padded_seq = seq_and_pad(val_sentences, tokenizer, PADDING, MAXLEN)\n",
        "\n",
        "print(f\"Padded training sequences have shape: {train_padded_seq.shape}\\n\")\n",
        "print(f\"Padded validation sequences have shape: {val_padded_seq.shape}\")"
      ]
    },
    {
      "cell_type": "markdown",
      "id": "ebe67494",
      "metadata": {
        "id": "ebe67494"
      },
      "source": [
        "***Expected Output:***\n",
        "\n",
        "```\n",
        "Padded training sequences have shape: (1780, 120)\n",
        "\n",
        "Padded validation sequences have shape: (445, 120)\n",
        "```"
      ]
    },
    {
      "cell_type": "markdown",
      "id": "0599d0dc",
      "metadata": {
        "id": "0599d0dc"
      },
      "source": [
        "Finally you need to tokenize the labels. For this complete the `tokenize_labels` function below.\n",
        "\n",
        "A couple of things to note:\n",
        "- You should fit the tokenizer to all the labels to avoid the case of a particular label not being present in the validation set. Since you are dealing with labels there should never be an OOV label.\n",
        "\n",
        "\n",
        "- In the previous function you used the `pad_sequences` function which returns numpy arrays. Here you will not be using it since you don't need to pad the labels so you need to make the conversion to numpy arrays yourself.\n",
        "\n",
        "\n",
        "- The argument `split_labels` refers to the labels of a particular split (train or validation). This is because the function should work independently of the split being used.\n",
        "\n",
        "\n",
        "- Using Keras' Tokenizer yields values that start at 1 rather than at 0. This will present a problem when training since Keras usually expects the labels to start at 0. To work around this issue you could use an extra neuron in the last layer of your model. However this approach is rather hacky and not very clear. Instead you will substract 1 from every value of the labels that the function returns. Remember that when using numpy arrays you can simply do something like `np.array - 1` to accomplish this since numpy allows for vectorized operations."
      ]
    },
    {
      "cell_type": "code",
      "execution_count": 47,
      "id": "ac9156a2",
      "metadata": {
        "id": "ac9156a2",
        "lines_to_next_cell": 2
      },
      "outputs": [],
      "source": [
        "# GRADED FUNCTION: tokenize_labels\n",
        "def tokenize_labels(all_labels, split_labels):\n",
        "    \n",
        "    import numpy as np\n",
        "    from tensorflow.keras.preprocessing.text import Tokenizer\n",
        "    ### START CODE HERE\n",
        "    \n",
        "    # Instantiate the Tokenizer (no additional arguments needed)\n",
        "    # So, do not pass the oov token.\n",
        "    label_tokenizer = Tokenizer()\n",
        "    \n",
        "    # Fit the tokenizer on all the labels\n",
        "    # This will avoid having the OOV token when analyzing a validation sentence.\n",
        "    # The OOV token would be present if we fitted the tokenizer to only the \n",
        "    # training labels and the validation labels contain vocabulary that were not\n",
        "    # used for fitting, i.e., words that are not in the vocabulary.\n",
        "    label_tokenizer.fit_on_texts(all_labels)\n",
        "    \n",
        "    # Convert labels to sequences\n",
        "    # Convert only the labels passed as split_labels. \n",
        "    # split_labels are the train_labels, when tokenizing the training data.\n",
        "    # split_labels are the validation_labels, when tokenizing the validation data.\n",
        "    label_seq = label_tokenizer.texts_to_sequences(split_labels)\n",
        "    \n",
        "    # Convert sequences to a numpy array. Don't forget to substact 1 from every entry in the array!\n",
        "    label_seq_np = np.array(label_seq)\n",
        "    # subtract 1: Using Keras' Tokenizer yields values that start at 1 rather than at 0. \n",
        "    # This will present a problem when training since Keras usually expects the labels to start at 0. \n",
        "    # So, we substract 1 from every value of the labels that the function returns. \n",
        "    # When using numpy arrays you can simply do something like np.array - 1 to accomplish this,\n",
        "    # since numpy allows for vectorized operations.\n",
        "    label_seq_np = label_seq_np - 1\n",
        "    \n",
        "    ### END CODE HERE\n",
        "    \n",
        "    return label_seq_np"
      ]
    },
    {
      "cell_type": "code",
      "execution_count": 48,
      "id": "97b911a9",
      "metadata": {
        "colab": {
          "base_uri": "https://localhost:8080/"
        },
        "id": "97b911a9",
        "outputId": "54a0448c-a36c-426a-9493-852c3524d6ff"
      },
      "outputs": [
        {
          "output_type": "stream",
          "name": "stdout",
          "text": [
            "First 5 labels of the training set should look like this:\n",
            "[[3]\n",
            " [1]\n",
            " [0]\n",
            " [0]\n",
            " [2]]\n",
            "\n",
            "First 5 labels of the validation set should look like this:\n",
            "[[4]\n",
            " [4]\n",
            " [0]\n",
            " [0]\n",
            " [2]]\n",
            "\n",
            "Tokenized labels of the training set have shape: (1780, 1)\n",
            "\n",
            "Tokenized labels of the validation set have shape: (445, 1)\n",
            "\n"
          ]
        }
      ],
      "source": [
        "# Test your function\n",
        "train_label_seq = tokenize_labels(labels, train_labels)\n",
        "val_label_seq = tokenize_labels(labels, val_labels)\n",
        "\n",
        "print(f\"First 5 labels of the training set should look like this:\\n{train_label_seq[:5]}\\n\")\n",
        "print(f\"First 5 labels of the validation set should look like this:\\n{val_label_seq[:5]}\\n\")\n",
        "print(f\"Tokenized labels of the training set have shape: {train_label_seq.shape}\\n\")\n",
        "print(f\"Tokenized labels of the validation set have shape: {val_label_seq.shape}\\n\")"
      ]
    },
    {
      "cell_type": "markdown",
      "id": "330dcfa6",
      "metadata": {
        "id": "330dcfa6"
      },
      "source": [
        "***Expected Output:***\n",
        "\n",
        "```\n",
        "First 5 labels of the training set should look like this:\n",
        "[[3]\n",
        " [1]\n",
        " [0]\n",
        " [0]\n",
        " [4]]\n",
        "\n",
        "First 5 labels of the validation set should look like this:\n",
        "[[4]\n",
        " [3]\n",
        " [2]\n",
        " [0]\n",
        " [0]]\n",
        "\n",
        "Tokenized labels of the training set have shape: (1780, 1)\n",
        "\n",
        "Tokenized labels of the validation set have shape: (445, 1)\n",
        "```"
      ]
    },
    {
      "cell_type": "markdown",
      "id": "409a3ba2",
      "metadata": {
        "id": "409a3ba2"
      },
      "source": [
        "## Selecting the model for text classification\n",
        "\n",
        "Now that the data is ready to be fed a Neural Network it is time for you to define the model that will classify each text as being part of a certain category. \n",
        "\n",
        "For this complete the `create_model` below. \n",
        "\n",
        "A couple of things to keep in mind:\n",
        "\n",
        "- Notice that this function has three parameters, all of which are meant to be passed to an [Embedding](https://www.tensorflow.org/api_docs/python/tf/keras/layers/Embedding) layer, which is what you will probably use as a first layer for your model.\n",
        "\n",
        "\n",
        "- The last layer should be a Dense layer with 5 units (since there are 5 categories) with a softmax activation.\n",
        "\n",
        "\n",
        "- You should also compile your model using an appropiate loss function and optimizer.\n",
        "\n",
        "\n",
        "- You can use any architecture you want but keep in mind that this problem doesn't need many layers to be solved successfully. You don't need any layers beside Embedding, [GlobalAveragePooling1D](https://www.tensorflow.org/api_docs/python/tf/keras/layers/GlobalAveragePooling1D) and Dense layers but feel free to try out different architectures.\n",
        "\n",
        "\n",
        "- **To pass this graded function your model should reach at least a 95% training accuracy and a 90% validation accuracy in under 30 epochs.**"
      ]
    },
    {
      "cell_type": "code",
      "execution_count": 59,
      "id": "777e43f4",
      "metadata": {
        "id": "777e43f4"
      },
      "outputs": [],
      "source": [
        "# GRADED FUNCTION: create_model\n",
        "def create_model(num_words, embedding_dim, maxlen):\n",
        "    \n",
        "    import tensorflow as tf\n",
        "\n",
        "    tf.random.set_seed(123)\n",
        "    \n",
        "    ### START CODE HERE\n",
        "    \n",
        "    # embedding_dim: Define dimensionality of the embedding\n",
        "    # It is the number of dimensions of the embedding vectors - \n",
        "    # conversion of words into vectors in an N-dimensional space that minimizes \n",
        "    # the distance between vectors correspondent to words from the same semantical field \n",
        "    # (i.e., similar meaning or feeling). Each vector has embedding_dim dimensions,\n",
        "    # where each dimension of the vector is occupied by a float value.\n",
        "\n",
        "    model = tf.keras.Sequential([ \n",
        "        tf.keras.layers.Embedding(num_words, embedding_dim, input_length = maxlen),\n",
        "        tf.keras.layers.GlobalAveragePooling1D(),\n",
        "        tf.keras.layers.Dense(64, activation='relu'),\n",
        "        tf.keras.layers.Dense(5, activation='softmax')\n",
        "        # There are 5 neurons (units) activated through 'softmax', since there\n",
        "        # are 5 possible categories.\n",
        "    ])\n",
        "    \n",
        "    model.compile(loss = 'sparse_categorical_crossentropy',\n",
        "                  optimizer = 'adam',\n",
        "                  metrics = ['accuracy']) \n",
        "    # we use 'sparse_categorical_crossentropy' because there are multiple categories.\n",
        "    # If fewer categories were present, we could use 'sparse_categorical_crossentropy'\n",
        "    # instead.\n",
        "\n",
        "    ### END CODE HERE\n",
        "\n",
        "    return model\n"
      ]
    },
    {
      "cell_type": "code",
      "execution_count": 60,
      "id": "528697fa",
      "metadata": {
        "colab": {
          "base_uri": "https://localhost:8080/"
        },
        "id": "528697fa",
        "outputId": "40cdbee5-4f1b-4fa2-d442-f1ced3ef068c"
      },
      "outputs": [
        {
          "output_type": "stream",
          "name": "stdout",
          "text": [
            "Epoch 1/30\n",
            "56/56 [==============================] - 1s 7ms/step - loss: 1.5977 - accuracy: 0.3449 - val_loss: 1.5761 - val_accuracy: 0.4360\n",
            "Epoch 2/30\n",
            "56/56 [==============================] - 0s 4ms/step - loss: 1.5206 - accuracy: 0.4764 - val_loss: 1.4391 - val_accuracy: 0.4787\n",
            "Epoch 3/30\n",
            "56/56 [==============================] - 0s 5ms/step - loss: 1.2904 - accuracy: 0.5876 - val_loss: 1.1310 - val_accuracy: 0.7281\n",
            "Epoch 4/30\n",
            "56/56 [==============================] - 0s 3ms/step - loss: 0.9454 - accuracy: 0.8034 - val_loss: 0.8047 - val_accuracy: 0.8831\n",
            "Epoch 5/30\n",
            "56/56 [==============================] - 0s 5ms/step - loss: 0.6385 - accuracy: 0.9028 - val_loss: 0.5523 - val_accuracy: 0.9258\n",
            "Epoch 6/30\n",
            "56/56 [==============================] - 0s 3ms/step - loss: 0.4252 - accuracy: 0.9354 - val_loss: 0.4014 - val_accuracy: 0.9258\n",
            "Epoch 7/30\n",
            "56/56 [==============================] - 0s 4ms/step - loss: 0.3012 - accuracy: 0.9483 - val_loss: 0.3175 - val_accuracy: 0.9348\n",
            "Epoch 8/30\n",
            "56/56 [==============================] - 0s 4ms/step - loss: 0.2250 - accuracy: 0.9646 - val_loss: 0.2657 - val_accuracy: 0.9348\n",
            "Epoch 9/30\n",
            "56/56 [==============================] - 0s 4ms/step - loss: 0.1774 - accuracy: 0.9742 - val_loss: 0.2342 - val_accuracy: 0.9416\n",
            "Epoch 10/30\n",
            "56/56 [==============================] - 0s 4ms/step - loss: 0.1436 - accuracy: 0.9764 - val_loss: 0.2131 - val_accuracy: 0.9393\n",
            "Epoch 11/30\n",
            "56/56 [==============================] - 0s 3ms/step - loss: 0.1187 - accuracy: 0.9803 - val_loss: 0.1965 - val_accuracy: 0.9461\n",
            "Epoch 12/30\n",
            "56/56 [==============================] - 0s 4ms/step - loss: 0.0995 - accuracy: 0.9876 - val_loss: 0.1865 - val_accuracy: 0.9326\n",
            "Epoch 13/30\n",
            "56/56 [==============================] - 0s 4ms/step - loss: 0.0849 - accuracy: 0.9871 - val_loss: 0.1764 - val_accuracy: 0.9371\n",
            "Epoch 14/30\n",
            "56/56 [==============================] - 0s 4ms/step - loss: 0.0718 - accuracy: 0.9916 - val_loss: 0.1700 - val_accuracy: 0.9416\n",
            "Epoch 15/30\n",
            "56/56 [==============================] - 0s 3ms/step - loss: 0.0620 - accuracy: 0.9933 - val_loss: 0.1652 - val_accuracy: 0.9393\n",
            "Epoch 16/30\n",
            "56/56 [==============================] - 0s 4ms/step - loss: 0.0533 - accuracy: 0.9961 - val_loss: 0.1608 - val_accuracy: 0.9438\n",
            "Epoch 17/30\n",
            "56/56 [==============================] - 0s 4ms/step - loss: 0.0460 - accuracy: 0.9966 - val_loss: 0.1598 - val_accuracy: 0.9393\n",
            "Epoch 18/30\n",
            "56/56 [==============================] - 0s 4ms/step - loss: 0.0407 - accuracy: 0.9978 - val_loss: 0.1562 - val_accuracy: 0.9506\n",
            "Epoch 19/30\n",
            "56/56 [==============================] - 0s 4ms/step - loss: 0.0348 - accuracy: 0.9978 - val_loss: 0.1570 - val_accuracy: 0.9393\n",
            "Epoch 20/30\n",
            "56/56 [==============================] - 0s 4ms/step - loss: 0.0305 - accuracy: 0.9983 - val_loss: 0.1546 - val_accuracy: 0.9438\n",
            "Epoch 21/30\n",
            "56/56 [==============================] - 0s 4ms/step - loss: 0.0268 - accuracy: 0.9989 - val_loss: 0.1545 - val_accuracy: 0.9416\n",
            "Epoch 22/30\n",
            "56/56 [==============================] - 0s 4ms/step - loss: 0.0237 - accuracy: 0.9989 - val_loss: 0.1529 - val_accuracy: 0.9438\n",
            "Epoch 23/30\n",
            "56/56 [==============================] - 0s 3ms/step - loss: 0.0210 - accuracy: 0.9989 - val_loss: 0.1528 - val_accuracy: 0.9483\n",
            "Epoch 24/30\n",
            "56/56 [==============================] - 0s 4ms/step - loss: 0.0188 - accuracy: 1.0000 - val_loss: 0.1523 - val_accuracy: 0.9438\n",
            "Epoch 25/30\n",
            "56/56 [==============================] - 0s 3ms/step - loss: 0.0165 - accuracy: 1.0000 - val_loss: 0.1525 - val_accuracy: 0.9461\n",
            "Epoch 26/30\n",
            "56/56 [==============================] - 0s 4ms/step - loss: 0.0149 - accuracy: 1.0000 - val_loss: 0.1528 - val_accuracy: 0.9461\n",
            "Epoch 27/30\n",
            "56/56 [==============================] - 0s 4ms/step - loss: 0.0134 - accuracy: 1.0000 - val_loss: 0.1538 - val_accuracy: 0.9438\n",
            "Epoch 28/30\n",
            "56/56 [==============================] - 0s 3ms/step - loss: 0.0120 - accuracy: 1.0000 - val_loss: 0.1556 - val_accuracy: 0.9438\n",
            "Epoch 29/30\n",
            "56/56 [==============================] - 0s 4ms/step - loss: 0.0108 - accuracy: 1.0000 - val_loss: 0.1555 - val_accuracy: 0.9416\n",
            "Epoch 30/30\n",
            "56/56 [==============================] - 0s 3ms/step - loss: 0.0098 - accuracy: 1.0000 - val_loss: 0.1565 - val_accuracy: 0.9438\n"
          ]
        }
      ],
      "source": [
        "model = create_model(NUM_WORDS, EMBEDDING_DIM, MAXLEN)\n",
        "\n",
        "history = model.fit(train_padded_seq, train_label_seq, epochs=30, validation_data=(val_padded_seq, val_label_seq))"
      ]
    },
    {
      "cell_type": "markdown",
      "id": "7c432bfb",
      "metadata": {
        "id": "7c432bfb"
      },
      "source": [
        "Once training has finished you can run the following cell to check the training and validation accuracy achieved at the end of each epoch.\n",
        "\n",
        "**Remember that to pass this assignment your model should achieve a training accuracy of at least 95% and a validation accuracy of at least 90%. If your model didn't achieve these thresholds, try training again with a different model architecture.**"
      ]
    },
    {
      "cell_type": "code",
      "execution_count": 61,
      "id": "39ac0880",
      "metadata": {
        "colab": {
          "base_uri": "https://localhost:8080/",
          "height": 541
        },
        "id": "39ac0880",
        "outputId": "bd0f176a-4c64-4fb7-e50c-9f365d0cae94"
      },
      "outputs": [
        {
          "output_type": "display_data",
          "data": {
            "text/plain": [
              "<Figure size 432x288 with 1 Axes>"
            ],
            "image/png": "[encoded data removed]"
          },
          "metadata": {
            "needs_background": "light"
          }
        },
        {
          "output_type": "display_data",
          "data": {
            "text/plain": [
              "<Figure size 432x288 with 1 Axes>"
            ],
            "image/png": "[encoded data removed]"
          },
          "metadata": {
            "needs_background": "light"
          }
        }
      ],
      "source": [
        "def plot_graphs(history, metric):\n",
        "    plt.plot(history.history[metric])\n",
        "    plt.plot(history.history[f'val_{metric}'])\n",
        "    plt.xlabel(\"Epochs\")\n",
        "    plt.ylabel(metric)\n",
        "    plt.legend([metric, f'val_{metric}'])\n",
        "    plt.show()\n",
        "    \n",
        "plot_graphs(history, \"accuracy\")\n",
        "plot_graphs(history, \"loss\")"
      ]
    },
    {
      "cell_type": "markdown",
      "id": "daebf985",
      "metadata": {
        "id": "daebf985"
      },
      "source": [
        "**If your model passes the previously mentioned thresholds be sure to save your notebook and submit for grading before jumping onto the next section.**"
      ]
    },
    {
      "cell_type": "markdown",
      "id": "41c69b1a",
      "metadata": {
        "id": "41c69b1a"
      },
      "source": [
        "## Optional Exercise - Visualizing 3D Vectors\n",
        "\n",
        "As you saw on the lecture you can visualize the vectors associated with each word in the training set in a 3D space.\n",
        "\n",
        "For this run the following cells and visit [Tensorflow's Embedding Projector](https://projector.tensorflow.org/)."
      ]
    },
    {
      "cell_type": "code",
      "execution_count": 62,
      "id": "b95d245f",
      "metadata": {
        "id": "b95d245f",
        "colab": {
          "base_uri": "https://localhost:8080/"
        },
        "outputId": "34d3325e-b391-4ea4-9574-aaa2069e7f20"
      },
      "outputs": [
        {
          "output_type": "stream",
          "name": "stdout",
          "text": [
            "Weights of embedding layer have shape: (1000, 16)\n"
          ]
        }
      ],
      "source": [
        "# Reverse word index\n",
        "reverse_word_index = dict([(value, key) for (key, value) in word_index.items()])\n",
        "\n",
        "# Save the embedding layer\n",
        "e = model.layers[0]\n",
        "\n",
        "# Save the weights of the embedding layer\n",
        "weights = e.get_weights()[0]\n",
        "print(f\"Weights of embedding layer have shape: {weights.shape}\")"
      ]
    },
    {
      "cell_type": "markdown",
      "id": "59829d18",
      "metadata": {
        "id": "59829d18"
      },
      "source": [
        "***Expected Output:***\n",
        "\n",
        "```\n",
        "Weights of embedding layer have shape: (1000, 16) \n",
        "\n",
        "The above is true if global variables are not modified. \n",
        "Notice that this shape will always be (NUM_WORDS, EMBEDDING_DIM).\n",
        "\n",
        "```"
      ]
    },
    {
      "cell_type": "markdown",
      "id": "eb987604",
      "metadata": {
        "id": "eb987604"
      },
      "source": [
        "Now run the following cell to generate the `vecs.tsv` and `meta.tsv` files that you will upload to the embedding projector."
      ]
    },
    {
      "cell_type": "code",
      "execution_count": 63,
      "id": "7450751a",
      "metadata": {
        "id": "7450751a"
      },
      "outputs": [],
      "source": [
        "# Generate files for embedding visualization\n",
        "out_v = io.open('vecs.tsv', 'w', encoding='utf-8')\n",
        "out_m = io.open('meta.tsv', 'w', encoding='utf-8')\n",
        "for word_num in range(1, NUM_WORDS):\n",
        "    word = reverse_word_index[word_num]\n",
        "    embeddings = weights[word_num]\n",
        "    out_m.write(word + \"\\n\")\n",
        "    out_v.write('\\t'.join([str(x) for x in embeddings]) + \"\\n\")\n",
        "out_v.close()\n",
        "out_m.close()"
      ]
    },
    {
      "cell_type": "markdown",
      "id": "acd48a90",
      "metadata": {
        "id": "acd48a90"
      },
      "source": [
        "Before downloading these files be sure to having already submitted your assignment.\n",
        "\n",
        "\n",
        "By running the previous cell, these files are placed within your filesystem. To download them, click on the `Jupyter` logo on the upper-left side of the screen. This will take you to the Jupyter filesystem and there you can download the files by selecting them and clicking on the `Download` button."
      ]
    },
    {
      "cell_type": "markdown",
      "id": "6b3fe04e",
      "metadata": {
        "id": "6b3fe04e"
      },
      "source": [
        "**Congratulations on finishing this week's assignment!**\n",
        "\n",
        "You have successfully implemented a neural network capable of classifying text and also learned about embeddings and tokenization along the way!\n",
        "\n",
        "**Keep it up!**"
      ]
    }
  ],
  "metadata": {
    "kernelspec": {
      "display_name": "Python 3",
      "language": "python",
      "name": "python3"
    },
    "language_info": {
      "codemirror_mode": {
        "name": "ipython",
        "version": 3
      },
      "file_extension": ".py",
      "mimetype": "text/x-python",
      "name": "python",
      "nbconvert_exporter": "python",
      "pygments_lexer": "ipython3",
      "version": "3.8.8"
    },
    "colab": {
      "name": "C3W2_Assignment.ipynb",
      "provenance": [],
      "collapsed_sections": []
    }
  },
  "nbformat": 4,
  "nbformat_minor": 5
}